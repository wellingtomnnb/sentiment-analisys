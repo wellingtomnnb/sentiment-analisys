{
 "cells": [
  {
   "cell_type": "code",
   "execution_count": 3,
   "metadata": {},
   "outputs": [
    {
     "name": "stdout",
     "output_type": "stream",
     "text": [
      ";---------------------;\n",
      "|  Dados Carregados!  |\n",
      "|---------------------|\n",
      "|  df: 592783         |\n",
      ";---------------------;\n"
     ]
    }
   ],
   "source": [
    "# Carregamento de dados\n",
    "from gensim.models import KeyedVectors\n",
    "import pandas as pd\n",
    "import numpy as np\n",
    "from dbConection import execQuery\n",
    "\n",
    "\n",
    "result = execQuery(\"SELECT * FROM log_atendimentos WHERE data_criado BETWEEN '2022-08-08 00:00:00' AND '2022-08-08 23:59:59'\")\n",
    "result.to_csv(\"dados/log_atendimentos_2022-08-08.csv\", sep=',', encoding='utf-8')\n",
    "df_atend= pd.read_csv('dados/log_atendimentos_2022-08-08.csv', low_memory=False, index_col=[0])\n",
    "\n",
    "# Modeling\n",
    "from modeling import Modeling\n",
    "df = Modeling(df_atend).run().df_modeled #.get_text_polarity(dic_plus)\n",
    "df.to_csv('dados/transformed_data.csv')\n",
    "df= pd.read_csv('dados/transformed_data.csv', low_memory=False, index_col=[0])\n",
    "\n",
    "# cbow = KeyedVectors.load_word2vec_format('dados/cbow_s300.txt') # obtenção de word2vec\n",
    "\n",
    "print(\";---------------------;\")\n",
    "print(\"|  Dados Carregados!  |\")\n",
    "print(\"|---------------------|\")\n",
    "print(\"|  df_atend: %d   |\" %len(df_atend))\n",
    "print(\"|  df: %d         |\" %len(df))\n",
    "# print(\"|  cbow: %d       |\" %len(cbow))\n",
    "print(\";---------------------;\")\n"
   ]
  },
  {
   "cell_type": "code",
   "execution_count": null,
   "metadata": {},
   "outputs": [],
   "source": [
    "# analise estrutural\n",
    "df.head()"
   ]
  }
 ],
 "metadata": {
  "kernelspec": {
   "display_name": "Python 3.8.10 64-bit",
   "language": "python",
   "name": "python3"
  },
  "language_info": {
   "codemirror_mode": {
    "name": "ipython",
    "version": 3
   },
   "file_extension": ".py",
   "mimetype": "text/x-python",
   "name": "python",
   "nbconvert_exporter": "python",
   "pygments_lexer": "ipython3",
   "version": "3.8.10"
  },
  "orig_nbformat": 4,
  "vscode": {
   "interpreter": {
    "hash": "916dbcbb3f70747c44a77c7bcd40155683ae19c65e1c03b4aa3499c5328201f1"
   }
  }
 },
 "nbformat": 4,
 "nbformat_minor": 2
}
