{
 "cells": [
  {
   "cell_type": "markdown",
   "metadata": {},
   "source": [
    "#### Instalação de Módulos Necessário"
   ]
  },
  {
   "cell_type": "code",
   "execution_count": 1,
   "metadata": {},
   "outputs": [
    {
     "name": "stdout",
     "output_type": "stream",
     "text": [
      "Defaulting to user installation because normal site-packages is not writeable\n",
      "Collecting grequests\n",
      "  Downloading grequests-0.6.0-py3-none-any.whl (5.2 kB)\n",
      "Requirement already satisfied: requests in /home/alertrack/.local/lib/python3.8/site-packages (from grequests) (2.27.1)\n",
      "Collecting gevent\n",
      "  Downloading gevent-21.12.0-cp38-cp38-manylinux_2_12_x86_64.manylinux2010_x86_64.whl (6.5 MB)\n",
      "\u001b[2K     \u001b[90m━━━━━━━━━━━━━━━━━━━━━━━━━━━━━━━━━━━━━━━━\u001b[0m \u001b[32m6.5/6.5 MB\u001b[0m \u001b[31m1.3 MB/s\u001b[0m eta \u001b[36m0:00:00\u001b[0m00:01\u001b[0m00:01\u001b[0m\n",
      "\u001b[?25hRequirement already satisfied: greenlet<2.0,>=1.1.0 in /home/alertrack/.local/lib/python3.8/site-packages (from gevent->grequests) (1.1.2)\n",
      "Requirement already satisfied: setuptools in /usr/lib/python3/dist-packages (from gevent->grequests) (45.2.0)\n",
      "Collecting zope.event\n",
      "  Downloading zope.event-4.5.0-py2.py3-none-any.whl (6.8 kB)\n",
      "Collecting zope.interface\n",
      "  Downloading zope.interface-5.4.0-cp38-cp38-manylinux2010_x86_64.whl (259 kB)\n",
      "\u001b[2K     \u001b[90m━━━━━━━━━━━━━━━━━━━━━━━━━━━━━━━━━━━━━━━\u001b[0m \u001b[32m259.2/259.2 KB\u001b[0m \u001b[31m1.5 MB/s\u001b[0m eta \u001b[36m0:00:00\u001b[0m00:01\u001b[0m00:01\u001b[0m\n",
      "\u001b[?25hRequirement already satisfied: urllib3<1.27,>=1.21.1 in /home/alertrack/.local/lib/python3.8/site-packages (from requests->grequests) (1.26.8)\n",
      "Requirement already satisfied: certifi>=2017.4.17 in /usr/lib/python3/dist-packages (from requests->grequests) (2019.11.28)\n",
      "Requirement already satisfied: charset-normalizer~=2.0.0 in /home/alertrack/.local/lib/python3.8/site-packages (from requests->grequests) (2.0.12)\n",
      "Requirement already satisfied: idna<4,>=2.5 in /usr/lib/python3/dist-packages (from requests->grequests) (2.8)\n",
      "Installing collected packages: zope.interface, zope.event, gevent, grequests\n",
      "Successfully installed gevent-21.12.0 grequests-0.6.0 zope.event-4.5.0 zope.interface-5.4.0\n",
      "\u001b[33mWARNING: You are using pip version 22.0.4; however, version 22.2.2 is available.\n",
      "You should consider upgrading via the '/bin/python3 -m pip install --upgrade pip' command.\u001b[0m\u001b[33m\n",
      "\u001b[0mNote: you may need to restart the kernel to use updated packages.\n"
     ]
    }
   ],
   "source": [
    "# BASICS MODULES\n",
    "\n",
    "# %pip install gensim\n",
    "# %pip install pandas\n",
    "# %pip install numpy\n",
    "# %pip install sklearn\n",
    "# %pip install matplotlib\n",
    "# %pip install html\n",
    "# %pip install sqlalchemy\n",
    "# %pip install warnings\n",
    "# %pip install re\n",
    "# %pip install unidecode\n",
    "# %pip install nltk\n",
    "# %pip install Jinja2\n",
    "# %pip install wordcloud\n",
    "# %pip install pymysql\n",
    "# %pip install plotly\n",
    "# %pip install grequests"
   ]
  },
  {
   "cell_type": "code",
   "execution_count": 2,
   "metadata": {},
   "outputs": [
    {
     "name": "stdout",
     "output_type": "stream",
     "text": [
      "ramificação princial do googletrans está com erro.\n",
      "Dessa forma é necessário instalar a lib a partir de\n",
      "uma outra ramificação do projeto,\n",
      "seguindo os comandos abaixo diretamente pelo terminal\n"
     ]
    }
   ],
   "source": [
    "# instalação googletrans\n",
    "print(\"\"\"ramificação princial do googletrans está com erro.\n",
    "Dessa forma é necessário instalar a lib a partir de\n",
    "uma outra ramificação do projeto,\n",
    "seguindo os comandos descritos diretamente pelo terminal\"\"\")\n",
    "# %sudo python3 -m pip uninstall googletrans -y\n",
    "# %git clone https://github.com/alainrouillon/py-googletrans.git\n",
    "# %cd ./py-googletrans\n",
    "# %git checkout origin/feature/enhance-use-of-direct-api\n",
    "# %sudo python3 setup.py install"
   ]
  }
 ],
 "metadata": {
  "kernelspec": {
   "display_name": "Python 3.8.10 64-bit",
   "language": "python",
   "name": "python3"
  },
  "language_info": {
   "codemirror_mode": {
    "name": "ipython",
    "version": 3
   },
   "file_extension": ".py",
   "mimetype": "text/x-python",
   "name": "python",
   "nbconvert_exporter": "python",
   "pygments_lexer": "ipython3",
   "version": "3.8.10"
  },
  "orig_nbformat": 4,
  "vscode": {
   "interpreter": {
    "hash": "916dbcbb3f70747c44a77c7bcd40155683ae19c65e1c03b4aa3499c5328201f1"
   }
  }
 },
 "nbformat": 4,
 "nbformat_minor": 2
}
